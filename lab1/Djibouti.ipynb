{
 "cells": [
  {
   "cell_type": "markdown",
   "id": "2e95d4d5-6300-407d-a584-0d51e8e51a6b",
   "metadata": {},
   "source": [
    "\n",
    "<div style=\"border: 2px solid #000; padding: 10px;\"> Інформація про країну <a href=\"https://uk.wikipedia.org/wiki/%D0%94%D0%B6%D0%B8%D0%B1%D1%83%D1%82%D1%96\"> Джибуті </a></div> \n",
    "\n",
    "# 1. Площа\n",
    "\n",
    "*Площа країни Джибуті*: <span style=\"color: yellow;\"> 23.2 квадратних кілометрів.</span>\n",
    "\n",
    "# 2. Населення\n",
    "\n",
    "*Населення країни Джибуті*: <span style=\"color: red;\"> 988 000 осіб</span>\n",
    "\n",
    "\n",
    "## 3. Державний устрій\n",
    "\n",
    "*Державний устрій Джибуті*: <span style=\"color: magenta;\"> Республіка </span>\n",
    "\n",
    "\n",
    "## 4. Видатні персоналі\n",
    "\n",
    "* 4.1. **Ісмаїл Омар Гейле** - Політик і державний діяч, який зіграв важливу роль у політичному житті Джибуті. Він був одним з ключових фігур у боротьбі за незалежність країни.\n",
    "* 4.2. **Абдулкадір Качале Гуелле** - Політик, який був президентом Джибуті з 1977 по 1999 рік. Під час його правління країна пережила важливі перетворення і зміни.\n",
    "* 4.3. **Джамал Гіірі** - Дипломат і політичний діяч, який відіграв важливу роль у міжнародних відносинах Джибуті. Він займав посади урядовця і представника країни в різних міжнародних організаціях.\n",
    "\n",
    "## Пам'ятки культури та природи\n",
    "\n",
    "|Старе місто Жібуті (Вільйа)|Мечеть Хемпетіль-Альі|Наскальні малюнки Тіллілі|\n",
    "|---------------------------|---------------------|-------------------------|\n",
    "|Це історичне місто, яке    |Це одна з найбільших |Розташовані в околицях   |\n",
    "|відображає багату культурну|і найбільш вражаючих |Джибуті, ці давні        |\n",
    "|спадщину Джибуті. Воно     |мечетей у Джибуті.   |малюнки є свідченням     |\n",
    "|включає в себе традиційні  |Вона має вражаючу    |давньої культури і життя |\n",
    "|будівлі, базари, мечеті та |архітектуру та є     |в регіоні. Вони          |\n",
    "|інші архітектурні споруди. |важливим центром     |представляють велике     |\n",
    "|                           |релігійного життя    |історичне значення для   |                                                    \n",
    "|                           |для місцевого        |розуміння розвитку       |\n",
    "|                           |населення.           |мистецтва і культури на  |\n",
    "|                           |                     |території сучасного      |\n",
    "|                           |                     |Джибуті.                 |\n",
    "\n",
    "# Герб Джибуті:\n",
    "\n",
    "![Крепость Ельміна](https://upload.wikimedia.org/wikipedia/commons/thumb/8/8d/Emblem_of_Djibouti.svg/230px-Emblem_of_Djibouti.svg.png)\n",
    "\n",
    "# Прездинет Джибуті:\n",
    "\n",
    "<img src=\"https://upload.wikimedia.org/wikipedia/commons/thumb/0/01/Djiboutian_President_Ismail_Omar_Guelleh_at_the_presidential_palace_in_Djibouti%2C_Republic_of_Djibouti%2C_September_24%2C_2023_-_%28cropped%29.jpg/411px-Djiboutian_President_Ismail_Omar_Guelleh_at_the_presidential_palace_in_Djibouti%2C_Republic_of_Djibouti%2C_September_24%2C_2023_-_%28cropped%29.jpg\" alt=\"Президент\">"
   ]
  },
  {
   "cell_type": "code",
   "execution_count": 1,
   "id": "9e84e927-4711-48cf-b4a2-9d82ecc143c7",
   "metadata": {},
   "outputs": [
    {
     "data": {
      "text/html": [
       "<svg xmlns=\"http://www.w3.org/2000/svg\" width=\"600\" height=\"400\" viewBox=\"0 0 900 600\">\n",
       "    <rect width=\"900\" height=\"600\" fill=\"#12ADFF\"/>\n",
       "    <polygon points=\"450,300 110000,800 0,600\" fill=\"#007A5E\"/>\n",
       "    <polygon points=\"0,0 0,600 450,300\" fill=\"#FFFFFF\"/>\n",
       "    <polygon points=\"150,240 165,285 210,285 175,315 190,360 150,330 110,360 125,315 90,285 135,285\" fill=\"#FF0000\"/>\n",
       "</svg>\n"
      ],
      "text/plain": [
       "<IPython.core.display.HTML object>"
      ]
     },
     "metadata": {},
     "output_type": "display_data"
    }
   ],
   "source": [
    "%%HTML\n",
    "<svg xmlns=\"http://www.w3.org/2000/svg\" width=\"600\" height=\"400\" viewBox=\"0 0 900 600\">\n",
    "    <rect width=\"900\" height=\"600\" fill=\"#12ADFF\"/>\n",
    "    <polygon points=\"450,300 110000,800 0,600\" fill=\"#007A5E\"/>\n",
    "    <polygon points=\"0,0 0,600 450,300\" fill=\"#FFFFFF\"/>\n",
    "    <polygon points=\"150,240 165,285 210,285 175,315 190,360 150,330 110,360 125,315 90,285 135,285\" fill=\"#FF0000\"/>\n",
    "</svg>\n"
   ]
  }
 ],
 "metadata": {
  "kernelspec": {
   "display_name": "Python 3 (ipykernel)",
   "language": "python",
   "name": "python3"
  },
  "language_info": {
   "codemirror_mode": {
    "name": "ipython",
    "version": 3
   },
   "file_extension": ".py",
   "mimetype": "text/x-python",
   "name": "python",
   "nbconvert_exporter": "python",
   "pygments_lexer": "ipython3",
   "version": "3.12.1"
  }
 },
 "nbformat": 4,
 "nbformat_minor": 5
}
