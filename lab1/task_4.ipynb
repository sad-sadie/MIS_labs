{
 "cells": [
  {
   "cell_type": "code",
   "execution_count": null,
   "id": "3dd5147b-e533-47c1-993a-c79a00580194",
   "metadata": {},
   "outputs": [],
   "source": [
    "def task_4():\n",
    "    try:\n",
    "        numbers = list(map(int, input().split()))\n",
    "        \n",
    "        def bubble_sort(arr):\n",
    "            n = len(arr)\n",
    "            swaps = 0 \n",
    "\n",
    "            for i in range(n - 1):\n",
    "                for j in range(0, n - i - 1):\n",
    "                    if arr[j] > arr[j + 1]:\n",
    "                        arr[j], arr[j + 1] = arr[j + 1], arr[j]\n",
    "                        swaps += 1\n",
    "\n",
    "            return swaps\n",
    "\n",
    "        swaps = bubble_sort(numbers)\n",
    "\n",
    "        print(f\"Було виконано {swaps} перестановок\")\n",
    "\n",
    "    except ValueError:\n",
    "        print(\"Помилка. У списку присутнє нечислове значення.\")"
   ]
  }
 ],
 "metadata": {
  "kernelspec": {
   "display_name": "Python 3 (ipykernel)",
   "language": "python",
   "name": "python3"
  },
  "language_info": {
   "codemirror_mode": {
    "name": "ipython",
    "version": 3
   },
   "file_extension": ".py",
   "mimetype": "text/x-python",
   "name": "python",
   "nbconvert_exporter": "python",
   "pygments_lexer": "ipython3",
   "version": "3.12.1"
  }
 },
 "nbformat": 4,
 "nbformat_minor": 5
}
