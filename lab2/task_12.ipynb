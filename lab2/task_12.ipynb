{
 "cells": [
  {
   "cell_type": "code",
   "execution_count": 11,
   "id": "57ff91b9-6fc6-477f-b192-47a6bf9aacdb",
   "metadata": {
    "tags": []
   },
   "outputs": [
    {
     "name": "stdin",
     "output_type": "stream",
     "text": [
      "Введіть n:  5\n"
     ]
    }
   ],
   "source": [
    "# Введення числа n\n",
    "import numpy as np\n",
    "import random\n",
    "n = int(input(\"Введіть n: \"))"
   ]
  },
  {
   "cell_type": "code",
   "execution_count": 12,
   "id": "e8cdd21c-4b82-4d4d-94e5-dfc960997fee",
   "metadata": {
    "tags": []
   },
   "outputs": [
    {
     "name": "stdout",
     "output_type": "stream",
     "text": [
      "Масив за допомогою NumPy:\n",
      "[[0 0 0 0 0]\n",
      " [0 1 1 1 0]\n",
      " [0 1 1 1 0]\n",
      " [0 1 1 1 0]\n",
      " [0 0 0 0 0]]\n",
      "CPU times: total: 0 ns\n",
      "Wall time: 1e+03 µs\n"
     ]
    }
   ],
   "source": [
    "%%time\n",
    "# Створення масиву одиниць розміром n×n за допомогою NumPy\n",
    "array_np = np.zeros((n, n), dtype=int)\n",
    "\n",
    "# Створення \"рамки\" з нулів\n",
    "array_np[1:-1, 1:-1] = 1\n",
    "\n",
    "print(\"Масив за допомогою NumPy:\")\n",
    "print(array_np)"
   ]
  },
  {
   "cell_type": "code",
   "execution_count": null,
   "id": "d15381e3-5a9b-4562-b2d5-12a317ddb147",
   "metadata": {},
   "outputs": [],
   "source": []
  }
 ],
 "metadata": {
  "kernelspec": {
   "display_name": "Python 3 (ipykernel)",
   "language": "python",
   "name": "python3"
  },
  "language_info": {
   "codemirror_mode": {
    "name": "ipython",
    "version": 3
   },
   "file_extension": ".py",
   "mimetype": "text/x-python",
   "name": "python",
   "nbconvert_exporter": "python",
   "pygments_lexer": "ipython3",
   "version": "3.11.5"
  }
 },
 "nbformat": 4,
 "nbformat_minor": 5
}
