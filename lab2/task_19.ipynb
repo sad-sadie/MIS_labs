{
 "cells": [
  {
   "cell_type": "code",
   "execution_count": 1,
   "id": "0d468e70-1904-424f-a4b5-bfbbb6e0037a",
   "metadata": {},
   "outputs": [],
   "source": [
    "import numpy as np"
   ]
  },
  {
   "cell_type": "code",
   "execution_count": 12,
   "id": "b230a991-9cca-4851-abef-1b7797c44b9e",
   "metadata": {},
   "outputs": [
    {
     "name": "stdin",
     "output_type": "stream",
     "text": [
      "Введіть кількість елементів вектору (n):  15\n"
     ]
    }
   ],
   "source": [
    "n = int(input(\"Введіть кількість елементів вектору (n): \"))"
   ]
  },
  {
   "cell_type": "code",
   "execution_count": 13,
   "id": "b36f3c3f-b127-4253-9624-8c2e1367cfcb",
   "metadata": {},
   "outputs": [
    {
     "name": "stdout",
     "output_type": "stream",
     "text": [
      "Згенерований вектор:\n",
      "[0.062 0.125 0.188 0.25  0.312 0.375 0.438 0.5   0.562 0.625 0.688 0.75\n",
      " 0.812 0.875 0.938]\n",
      "CPU times: total: 0 ns\n",
      "Wall time: 998 µs\n"
     ]
    }
   ],
   "source": [
    "%%time\n",
    "def generate_vector(n):\n",
    "    vector = np.linspace(0, 1, n + 1, endpoint=False)[1:]\n",
    "    return vector\n",
    "\n",
    "\n",
    "vector = generate_vector(n)\n",
    "print(\"Згенерований вектор:\")\n",
    "print(np.around(vector, 3)) \n"
   ]
  },
  {
   "cell_type": "code",
   "execution_count": 14,
   "id": "b904b5bd-e4a4-44c8-9677-699fc0e00071",
   "metadata": {},
   "outputs": [
    {
     "name": "stdout",
     "output_type": "stream",
     "text": [
      "Згенерований вектор:\n",
      "[0.062, 0.125, 0.188, 0.25, 0.312, 0.375, 0.438, 0.5, 0.562, 0.625, 0.688, 0.75, 0.812, 0.875, 0.938, 1.0]\n",
      "CPU times: total: 0 ns\n",
      "Wall time: 0 ns\n"
     ]
    }
   ],
   "source": [
    "%%time\n",
    "def generate_vector(n):\n",
    "    n = n + 1\n",
    "    interval = 1 / n \n",
    "    vector = []  \n",
    "    value = interval  \n",
    "\n",
    "    # Генеруємо вектор\n",
    "    for _ in range(n):\n",
    "        vector.append(round(value, 3))  \n",
    "        value += interval  \n",
    "    return vector\n",
    "\n",
    "vector = generate_vector(n)\n",
    "print(\"Згенерований вектор:\")\n",
    "print(vector)\n"
   ]
  },
  {
   "cell_type": "code",
   "execution_count": null,
   "id": "245fee8d-e283-495e-81dd-ddcb6036a9bd",
   "metadata": {},
   "outputs": [],
   "source": []
  }
 ],
 "metadata": {
  "kernelspec": {
   "display_name": "Python 3 (ipykernel)",
   "language": "python",
   "name": "python3"
  },
  "language_info": {
   "codemirror_mode": {
    "name": "ipython",
    "version": 3
   },
   "file_extension": ".py",
   "mimetype": "text/x-python",
   "name": "python",
   "nbconvert_exporter": "python",
   "pygments_lexer": "ipython3",
   "version": "3.12.1"
  }
 },
 "nbformat": 4,
 "nbformat_minor": 5
}
