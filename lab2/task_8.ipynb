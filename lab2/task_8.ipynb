{
 "cells": [
  {
   "cell_type": "markdown",
   "id": "c602d949-bfb9-4928-9030-cf2063663707",
   "metadata": {},
   "source": [
    "## Вправа 8\n",
    "З клавіатури вводиться масив. Підрахувати в ньому\n",
    "кількість нульових та ненульових елементів."
   ]
  },
  {
   "cell_type": "code",
   "execution_count": 1,
   "id": "fdc266ae-faa0-46f0-b020-42e6653165e6",
   "metadata": {
    "tags": []
   },
   "outputs": [],
   "source": [
    "import numpy as np"
   ]
  },
  {
   "cell_type": "code",
   "execution_count": 2,
   "id": "8a00a63f-c9ec-40e2-92d4-2be872e2c6dc",
   "metadata": {
    "tags": []
   },
   "outputs": [
    {
     "name": "stdin",
     "output_type": "stream",
     "text": [
      "Введіть масив через пробіли:  3 4 0 9 8 2 4 0 8 4 0\n"
     ]
    }
   ],
   "source": [
    "arr = np.array(input(\"Введіть масив через пробіли: \").split(), dtype=int)"
   ]
  },
  {
   "cell_type": "code",
   "execution_count": 5,
   "id": "3b40831e-e51b-48ca-8da5-28d1571d1815",
   "metadata": {
    "tags": []
   },
   "outputs": [
    {
     "name": "stdout",
     "output_type": "stream",
     "text": [
      "Нулів: 3\n",
      "Не нулів: 8\n",
      "CPU times: total: 0 ns\n",
      "Wall time: 0 ns\n"
     ]
    }
   ],
   "source": [
    "%%time\n",
    "count_zeros = np.sum(arr == 0)\n",
    "count_non_zeros = np.sum(arr != 0)\n",
    "\n",
    "print(\"Нулів:\", count_zeros)\n",
    "print(\"Не нулів:\", count_non_zeros)"
   ]
  },
  {
   "cell_type": "code",
   "execution_count": 6,
   "id": "f320aef5-ab2b-41e2-86c6-6db04e51cf0a",
   "metadata": {
    "tags": []
   },
   "outputs": [
    {
     "name": "stdout",
     "output_type": "stream",
     "text": [
      "Нулів: 3\n",
      "Не нулів: 8\n",
      "CPU times: total: 0 ns\n",
      "Wall time: 0 ns\n"
     ]
    }
   ],
   "source": [
    "%%time\n",
    "count_zeros = sum(1 for x in arr if x == 0)\n",
    "count_non_zeros = sum(1 for x in arr if x != 0)\n",
    "\n",
    "print(\"Нулів:\", count_zeros)\n",
    "print(\"Не нулів:\", count_non_zeros)"
   ]
  },
  {
   "cell_type": "code",
   "execution_count": null,
   "id": "8ea332ee-dfd9-423e-ae0e-4557f28aec00",
   "metadata": {},
   "outputs": [],
   "source": []
  }
 ],
 "metadata": {
  "kernelspec": {
   "display_name": "Python 3 (ipykernel)",
   "language": "python",
   "name": "python3"
  },
  "language_info": {
   "codemirror_mode": {
    "name": "ipython",
    "version": 3
   },
   "file_extension": ".py",
   "mimetype": "text/x-python",
   "name": "python",
   "nbconvert_exporter": "python",
   "pygments_lexer": "ipython3",
   "version": "3.11.5"
  }
 },
 "nbformat": 4,
 "nbformat_minor": 5
}
