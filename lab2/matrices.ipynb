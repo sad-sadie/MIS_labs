{
 "cells": [
  {
   "cell_type": "code",
   "execution_count": 1,
   "id": "22e560c1-1401-441b-bd37-358205f6fef5",
   "metadata": {},
   "outputs": [],
   "source": [
    "import numpy as np\n",
    "\n",
    "A = np.array([[7, 2, 0],\n",
    "              [-7, -2, 1],\n",
    "              [1, 1, 0]])\n",
    "\n",
    "B = np.array([[0, 2, 3],\n",
    "              [1, 0, -2],\n",
    "              [3, 1, 1]])\n"
   ]
  },
  {
   "cell_type": "code",
   "execution_count": 9,
   "id": "486cc33a-cb07-4d97-8144-ab2bdb2cbc48",
   "metadata": {},
   "outputs": [
    {
     "name": "stdout",
     "output_type": "stream",
     "text": [
      "[[168  28   9]\n",
      " [168  18   3]\n",
      " [-16 -14  -7]]\n",
      "CPU times: total: 0 ns\n",
      "Wall time: 0 ns\n"
     ]
    }
   ],
   "source": [
    "%%time\n",
    "result_numpy = (np.dot(A, A) - np.dot(B, B)) * (A + B)\n",
    "print(result_numpy)"
   ]
  },
  {
   "cell_type": "code",
   "execution_count": 10,
   "id": "9f4dced5-5e96-447e-8410-972768e87171",
   "metadata": {},
   "outputs": [
    {
     "name": "stdout",
     "output_type": "stream",
     "text": [
      "[168, 28, 9]\n",
      "[168, 18, 3]\n",
      "[-16, -14, -7]\n",
      "CPU times: total: 0 ns\n",
      "Wall time: 998 µs\n"
     ]
    }
   ],
   "source": [
    "%%time\n",
    "n = len(A)\n",
    "m = len(A[0])\n",
    "\n",
    "result_iterative = [[0]*m for _ in range(n)]\n",
    "\n",
    "for i in range(n):\n",
    "    for j in range(m):\n",
    "        result_iterative[i][j] = (A[i][0]*A[0][j] + A[i][1]*A[1][j] + A[i][2]*A[2][j] -\n",
    "                       B[i][0]*B[0][j] - B[i][1]*B[1][j] - B[i][2]*B[2][j]) * (A[i][j] + B[i][j])\n",
    "\n",
    "for row in result_iterative:\n",
    "    print(row)\n"
   ]
  },
  {
   "cell_type": "code",
   "execution_count": 12,
   "id": "d89f3928-6846-4ff2-bf53-7fc9913ddfd3",
   "metadata": {
    "scrolled": true
   },
   "outputs": [
    {
     "name": "stdout",
     "output_type": "stream",
     "text": [
      "Результати збігаються.\n"
     ]
    }
   ],
   "source": [
    "if np.allclose(result_numpy, result_iterative):\n",
    "    print(\"Результати збігаються.\")\n",
    "else:\n",
    "    print(\"Результати різняться.\")"
   ]
  },
  {
   "cell_type": "code",
   "execution_count": null,
   "id": "7d3a5f88-c7e2-4734-8c49-9984dec575b8",
   "metadata": {},
   "outputs": [],
   "source": []
  }
 ],
 "metadata": {
  "kernelspec": {
   "display_name": "Python 3 (ipykernel)",
   "language": "python",
   "name": "python3"
  },
  "language_info": {
   "codemirror_mode": {
    "name": "ipython",
    "version": 3
   },
   "file_extension": ".py",
   "mimetype": "text/x-python",
   "name": "python",
   "nbconvert_exporter": "python",
   "pygments_lexer": "ipython3",
   "version": "3.12.1"
  }
 },
 "nbformat": 4,
 "nbformat_minor": 5
}
