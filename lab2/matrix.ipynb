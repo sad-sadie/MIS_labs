{
 "cells": [
  {
   "cell_type": "code",
   "execution_count": 23,
   "id": "eac45512-2ece-4440-81a9-499dca6b5c7a",
   "metadata": {},
   "outputs": [
    {
     "name": "stdout",
     "output_type": "stream",
     "text": [
      "Перевірка за допомогою матричного множення: True\n",
      "Перевірка за допомогою оберненої матриці: True\n",
      "Перевірка за допомогою numpy.linalg.solve(): True\n"
     ]
    }
   ],
   "source": [
    "import numpy as np\n",
    "\n",
    "A = np.array([[4, 1, 0, -1],\n",
    "              [1, -3, 3, 0],\n",
    "              [0, 3, -2, 4],\n",
    "              [1, 0, 2, 4]])\n",
    "\n",
    "B = np.array([-9, 7, 12, 12])\n",
    "\n",
    "det_A = np.linalg.det(A)\n",
    "\n",
    "det_A1 = np.linalg.det(np.column_stack((B, A[:, 1:])))\n",
    "det_A2 = np.linalg.det(np.column_stack((A[:, 0], B, A[:, 2:])))\n",
    "det_A3 = np.linalg.det(np.column_stack((A[:, :2], B, A[:, 3:])))\n",
    "det_A4 = np.linalg.det(np.column_stack((A[:, :-1], B)))\n",
    "\n",
    "x1 = det_A1 / det_A\n",
    "x2 = det_A2 / det_A\n",
    "x3 = det_A3 / det_A\n",
    "x4 = det_A4 / det_A\n",
    "X = np.array([x1, x2, x3, x4])\n",
    "\n",
    "solution_matrix_mul = np.dot(A, X)\n",
    "\n",
    "A_inv = np.linalg.inv(A)\n",
    "solution_inv_matrix = np.dot(A_inv, B)\n",
    "\n",
    "solution_np_solve = np.linalg.solve(A, B)\n",
    "\n",
    "check_matrix_mul = np.allclose(solution_matrix_mul, B)\n",
    "check_inv_matrix = np.allclose(solution_inv_matrix, X)\n",
    "check_np_solve = np.allclose(solution_np_solve, X)\n",
    "\n",
    "print(\"Перевірка за допомогою матричного множення:\", check_matrix_mul)\n",
    "print(\"Перевірка за допомогою оберненої матриці:\", check_inv_matrix)\n",
    "print(\"Перевірка за допомогою numpy.linalg.solve():\", check_np_solve)\r\n"
   ]
  },
  {
   "cell_type": "code",
   "execution_count": null,
   "id": "4265bb5a-433f-4fdd-b38a-03a4b2f5f1ba",
   "metadata": {},
   "outputs": [],
   "source": []
  }
 ],
 "metadata": {
  "kernelspec": {
   "display_name": "Python 3 (ipykernel)",
   "language": "python",
   "name": "python3"
  },
  "language_info": {
   "codemirror_mode": {
    "name": "ipython",
    "version": 3
   },
   "file_extension": ".py",
   "mimetype": "text/x-python",
   "name": "python",
   "nbconvert_exporter": "python",
   "pygments_lexer": "ipython3",
   "version": "3.12.1"
  }
 },
 "nbformat": 4,
 "nbformat_minor": 5
}
