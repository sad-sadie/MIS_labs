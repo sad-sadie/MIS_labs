{
 "cells": [
  {
   "cell_type": "code",
   "execution_count": 2,
   "id": "5525f61e-cba1-4082-be89-1de077dfe532",
   "metadata": {
    "tags": []
   },
   "outputs": [
    {
     "name": "stdout",
     "output_type": "stream",
     "text": [
      "Рік з найбільшою кількістю народжень: 1957\n"
     ]
    }
   ],
   "source": [
    "import pandas as pd\n",
    "\n",
    "csv_file_path = 'E:\\\\anaconda3\\\\anaconda files\\\\lab3\\\\NationalNames.csv'\n",
    "try:\n",
    "    df = pd.read_csv(csv_file_path)    \n",
    "except FileNotFoundError:\n",
    "    print(f\"File not found: {csv_file_path}\")\n",
    "    \n",
    "births_by_year = df.groupby('Year')['Count'].sum()\n",
    "max_births_year = births_by_year.idxmax()\n",
    "\n",
    "print(\"Рік з найбільшою кількістю народжень:\", max_births_year)"
   ]
  },
  {
   "cell_type": "code",
   "execution_count": null,
   "id": "e04469cd-9ff2-4417-96fd-87dc9b635649",
   "metadata": {},
   "outputs": [],
   "source": []
  }
 ],
 "metadata": {
  "kernelspec": {
   "display_name": "Python 3 (ipykernel)",
   "language": "python",
   "name": "python3"
  },
  "language_info": {
   "codemirror_mode": {
    "name": "ipython",
    "version": 3
   },
   "file_extension": ".py",
   "mimetype": "text/x-python",
   "name": "python",
   "nbconvert_exporter": "python",
   "pygments_lexer": "ipython3",
   "version": "3.11.5"
  }
 },
 "nbformat": 4,
 "nbformat_minor": 5
}
