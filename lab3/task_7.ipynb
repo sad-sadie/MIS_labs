{
 "cells": [
  {
   "cell_type": "code",
   "execution_count": 1,
   "id": "42638111-4fec-4eb1-952a-d0aa6415a5d6",
   "metadata": {
    "tags": []
   },
   "outputs": [
    {
     "name": "stdout",
     "output_type": "stream",
     "text": [
      "              Id     Name  Year Gender  Count\n",
      "1677392  1677393    Jacob  2010      M  22082\n",
      "1677393  1677394    Ethan  2010      M  17985\n",
      "1677394  1677395  Michael  2010      M  17308\n",
      "1677395  1677396   Jayden  2010      M  17152\n",
      "1677396  1677397  William  2010      M  17030\n"
     ]
    }
   ],
   "source": [
    "import pandas as pd\n",
    "\n",
    "csv_file_path = 'E:\\\\anaconda3\\\\anaconda files\\\\lab3\\\\NationalNames.csv'\n",
    "try:\n",
    "    df = pd.read_csv(csv_file_path)    \n",
    "except FileNotFoundError:\n",
    "    print(f\"File not found: {csv_file_path}\")\n",
    "\n",
    "df_2010_male = df[(df['Year'] == 2010) & (df['Gender'] == 'M')]\n",
    "\n",
    "sorted_df = df_2010_male.sort_values(by='Count', ascending=False)\n",
    "top_5_male_names = sorted_df.head(5)[['Id', 'Name','Year','Gender', 'Count']]\n",
    "\n",
    "print(top_5_male_names)"
   ]
  },
  {
   "cell_type": "code",
   "execution_count": null,
   "id": "b95d1b70-4eba-4c93-85a4-e27a2764ebde",
   "metadata": {},
   "outputs": [],
   "source": []
  }
 ],
 "metadata": {
  "kernelspec": {
   "display_name": "Python 3 (ipykernel)",
   "language": "python",
   "name": "python3"
  },
  "language_info": {
   "codemirror_mode": {
    "name": "ipython",
    "version": 3
   },
   "file_extension": ".py",
   "mimetype": "text/x-python",
   "name": "python",
   "nbconvert_exporter": "python",
   "pygments_lexer": "ipython3",
   "version": "3.11.5"
  }
 },
 "nbformat": 4,
 "nbformat_minor": 5
}
