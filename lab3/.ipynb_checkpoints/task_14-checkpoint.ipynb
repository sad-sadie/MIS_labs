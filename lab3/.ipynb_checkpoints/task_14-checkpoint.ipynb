{
 "cells": [
  {
   "cell_type": "code",
   "execution_count": 12,
   "id": "bdf23a79-933b-4dce-9808-39d683786415",
   "metadata": {
    "tags": []
   },
   "outputs": [
    {
     "data": {
      "text/html": [
       "<div>\n",
       "<style scoped>\n",
       "    .dataframe tbody tr th:only-of-type {\n",
       "        vertical-align: middle;\n",
       "    }\n",
       "\n",
       "    .dataframe tbody tr th {\n",
       "        vertical-align: top;\n",
       "    }\n",
       "\n",
       "    .dataframe thead th {\n",
       "        text-align: right;\n",
       "    }\n",
       "</style>\n",
       "<table border=\"1\" class=\"dataframe\">\n",
       "  <thead>\n",
       "    <tr style=\"text-align: right;\">\n",
       "      <th></th>\n",
       "      <th>Year</th>\n",
       "      <th>Gender_neutral_names</th>\n",
       "    </tr>\n",
       "  </thead>\n",
       "  <tbody>\n",
       "    <tr>\n",
       "      <th>0</th>\n",
       "      <td>2008</td>\n",
       "      <td>2557</td>\n",
       "    </tr>\n",
       "  </tbody>\n",
       "</table>\n",
       "</div>"
      ],
      "text/plain": [
       "   Year  Gender_neutral_names\n",
       "0  2008                  2557"
      ]
     },
     "metadata": {},
     "output_type": "display_data"
    }
   ],
   "source": [
    "import pandas as pd\n",
    "\n",
    "csv_file_path = 'E:\\\\anaconda3\\\\anaconda files\\\\lab3\\\\NationalNames.csv'\n",
    "try:\n",
    "    df = pd.read_csv(csv_file_path)\n",
    "except FileNotFoundError:\n",
    "    print(f\"File not found: {csv_file_path}\")\n",
    "\n",
    "gender_counts_by_name_year = df.groupby(['Year', 'Name', 'Gender']).size().unstack(fill_value=0)\n",
    "neutral_years = gender_counts_by_name_year[(gender_counts_by_name_year['M'] >= 1) & (gender_counts_by_name_year['F'] >= 1)]\n",
    "neutral_names_by_year = neutral_years.groupby('Year').size()\n",
    "most_neutral_year = neutral_names_by_year.idxmax()\n",
    "count_most_neutral_year = neutral_names_by_year.max()\n",
    "result_df = pd.DataFrame({'Year': [most_neutral_year], 'Gender_neutral_names': [count_most_neutral_year]})\n",
    "display(result_df)"
   ]
  },
  {
   "cell_type": "code",
   "execution_count": null,
   "id": "71d5bd27-3473-4b6b-9244-8e18bac055db",
   "metadata": {},
   "outputs": [],
   "source": []
  }
 ],
 "metadata": {
  "kernelspec": {
   "display_name": "Python 3 (ipykernel)",
   "language": "python",
   "name": "python3"
  },
  "language_info": {
   "codemirror_mode": {
    "name": "ipython",
    "version": 3
   },
   "file_extension": ".py",
   "mimetype": "text/x-python",
   "name": "python",
   "nbconvert_exporter": "python",
   "pygments_lexer": "ipython3",
   "version": "3.11.5"
  }
 },
 "nbformat": 4,
 "nbformat_minor": 5
}
