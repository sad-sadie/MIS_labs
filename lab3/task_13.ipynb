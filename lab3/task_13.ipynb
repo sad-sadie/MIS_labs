{
 "cells": [
  {
   "cell_type": "code",
   "execution_count": 2,
   "id": "76977f7d-d142-4270-9895-9ad63a249ae4",
   "metadata": {
    "tags": []
   },
   "outputs": [
    {
     "name": "stdout",
     "output_type": "stream",
     "text": [
      "2004\n"
     ]
    }
   ],
   "source": [
    "import pandas as pd\n",
    "\n",
    "csv_file_path = 'E:\\\\anaconda3\\\\anaconda files\\\\lab3\\\\NationalNames.csv'\n",
    "try:\n",
    "    df = pd.read_csv(csv_file_path)\n",
    "except FileNotFoundError:\n",
    "    print(f\"File not found: {csv_file_path}\")\n",
    "\n",
    "jacob_female = df[(df['Name'] == 'Jacob') & (df['Gender'] == 'F')]\n",
    "most_popular_year_jacob_female = jacob_female.loc[jacob_female['Count'].idxmax(), 'Year']\n",
    "print(most_popular_year_jacob_female)"
   ]
  },
  {
   "cell_type": "code",
   "execution_count": null,
   "id": "284f2cb2-53bc-4595-9bdd-d2f3d7e8f3b1",
   "metadata": {},
   "outputs": [],
   "source": []
  }
 ],
 "metadata": {
  "kernelspec": {
   "display_name": "Python 3 (ipykernel)",
   "language": "python",
   "name": "python3"
  },
  "language_info": {
   "codemirror_mode": {
    "name": "ipython",
    "version": 3
   },
   "file_extension": ".py",
   "mimetype": "text/x-python",
   "name": "python",
   "nbconvert_exporter": "python",
   "pygments_lexer": "ipython3",
   "version": "3.11.5"
  }
 },
 "nbformat": 4,
 "nbformat_minor": 5
}
