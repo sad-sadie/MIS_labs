{
 "cells": [
  {
   "cell_type": "code",
   "execution_count": 2,
   "id": "ef35633e-45ce-4c69-80f3-0c20817a28ea",
   "metadata": {
    "tags": []
   },
   "outputs": [
    {
     "data": {
      "text/plain": [
       "'The name is Linda in 1947'"
      ]
     },
     "metadata": {},
     "output_type": "display_data"
    }
   ],
   "source": [
    "import pandas as pd\n",
    "\n",
    "csv_file_path = 'E:\\\\anaconda3\\\\anaconda files\\\\lab3\\\\NationalNames.csv'\n",
    "try:\n",
    "    df = pd.read_csv(csv_file_path)    \n",
    "except FileNotFoundError:\n",
    "    print(f\"File not found: {csv_file_path}\")\n",
    "\n",
    "max_count_row = df[df['Count'] == df['Count'].max()]\n",
    "most_popular_name = max_count_row['Name'].values[0]\n",
    "year = max_count_row['Year'].values[0]\n",
    "display(f\"The name is {most_popular_name} in {year}\")"
   ]
  },
  {
   "cell_type": "code",
   "execution_count": null,
   "id": "42818570-89a1-44b1-91ac-5f85037ce12e",
   "metadata": {},
   "outputs": [],
   "source": []
  }
 ],
 "metadata": {
  "kernelspec": {
   "display_name": "Python 3 (ipykernel)",
   "language": "python",
   "name": "python3"
  },
  "language_info": {
   "codemirror_mode": {
    "name": "ipython",
    "version": 3
   },
   "file_extension": ".py",
   "mimetype": "text/x-python",
   "name": "python",
   "nbconvert_exporter": "python",
   "pygments_lexer": "ipython3",
   "version": "3.11.5"
  }
 },
 "nbformat": 4,
 "nbformat_minor": 5
}
