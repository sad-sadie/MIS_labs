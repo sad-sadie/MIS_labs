{
 "cells": [
  {
   "cell_type": "code",
   "execution_count": 1,
   "id": "0c316652-2245-4ae5-9031-793856cd6e09",
   "metadata": {
    "tags": []
   },
   "outputs": [
    {
     "name": "stdout",
     "output_type": "stream",
     "text": [
      "         Year      Name  Count\n",
      "942      1880      John   9655\n",
      "2938     1881      John   8769\n",
      "4963     1882      John   9557\n",
      "7116     1883      John   8894\n",
      "9318     1884      John   9388\n",
      "...       ...       ...    ...\n",
      "1657592  2010  Isabella  22883\n",
      "1691633  2011    Sophia  21816\n",
      "1725502  2012    Sophia  22267\n",
      "1759186  2013    Sophia  21147\n",
      "1792389  2014      Emma  20799\n",
      "\n",
      "[135 rows x 3 columns]\n"
     ]
    }
   ],
   "source": [
    "import pandas as pd\n",
    "\n",
    "csv_file_path = 'E:\\\\anaconda3\\\\anaconda files\\\\lab3\\\\NationalNames.csv'\n",
    "try:\n",
    "    df = pd.read_csv(csv_file_path)\n",
    "except FileNotFoundError:\n",
    "    print(f\"File not found: {csv_file_path}\")\n",
    "\n",
    "most_popular_names_by_year = df.loc[df.groupby('Year')['Count'].idxmax()][['Year', 'Name', 'Count']]\n",
    "\n",
    "print(most_popular_names_by_year)"
   ]
  },
  {
   "cell_type": "code",
   "execution_count": null,
   "id": "32b14edb-1f8c-49f7-a6cd-600b296987fe",
   "metadata": {},
   "outputs": [],
   "source": []
  }
 ],
 "metadata": {
  "kernelspec": {
   "display_name": "Python 3 (ipykernel)",
   "language": "python",
   "name": "python3"
  },
  "language_info": {
   "codemirror_mode": {
    "name": "ipython",
    "version": 3
   },
   "file_extension": ".py",
   "mimetype": "text/x-python",
   "name": "python",
   "nbconvert_exporter": "python",
   "pygments_lexer": "ipython3",
   "version": "3.11.5"
  }
 },
 "nbformat": 4,
 "nbformat_minor": 5
}
