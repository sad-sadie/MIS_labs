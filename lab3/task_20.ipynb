{
 "cells": [
  {
   "cell_type": "code",
   "execution_count": 1,
   "id": "758c6fa2-bf87-4383-91c7-4c7e39e7d75d",
   "metadata": {
    "tags": []
   },
   "outputs": [
    {
     "name": "stdout",
     "output_type": "stream",
     "text": [
      "Кількість гендерно-нейтральних імен: 10221\n"
     ]
    }
   ],
   "source": [
    "import pandas as pd\n",
    "\n",
    "csv_file_path = 'E:\\\\anaconda3\\\\anaconda files\\\\lab3\\\\NationalNames.csv'\n",
    "try:\n",
    "    df = pd.read_csv(csv_file_path)    \n",
    "except FileNotFoundError:\n",
    "    print(f\"File not found: {csv_file_path}\")\n",
    "    \n",
    "female_names = set(df[df['Gender'] == 'F']['Name'])\n",
    "male_names = set(df[df['Gender'] == 'M']['Name'])\n",
    "\n",
    "gender_neutral_names = female_names.intersection(male_names)\n",
    "count_gender_neutral_names = len(gender_neutral_names)\n",
    "\n",
    "print(f\"Кількість гендерно-нейтральних імен: {count_gender_neutral_names}\")"
   ]
  },
  {
   "cell_type": "code",
   "execution_count": null,
   "id": "02d26b8e-eb40-438b-8625-6da66ff27aea",
   "metadata": {},
   "outputs": [],
   "source": []
  }
 ],
 "metadata": {
  "kernelspec": {
   "display_name": "Python 3 (ipykernel)",
   "language": "python",
   "name": "python3"
  },
  "language_info": {
   "codemirror_mode": {
    "name": "ipython",
    "version": 3
   },
   "file_extension": ".py",
   "mimetype": "text/x-python",
   "name": "python",
   "nbconvert_exporter": "python",
   "pygments_lexer": "ipython3",
   "version": "3.11.5"
  }
 },
 "nbformat": 4,
 "nbformat_minor": 5
}
