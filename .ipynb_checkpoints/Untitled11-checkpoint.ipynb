{
 "cells": [
  {
   "cell_type": "markdown",
   "id": "d2ef3c90-8413-46b9-a2bc-064f8725b0ac",
   "metadata": {},
   "source": [
    "import numpy as np\r\n",
    "\r\n",
    "# Головна матриця системи\r\n",
    "A = np.array([[4, 1, 0, -1],\r\n",
    "              [1, -3, 3, 0],\r\n",
    "              [0, 3, -2, 4],\r\n",
    "              [1, 0, 2, 4]])\r\n",
    "\r\n",
    "# Вектор правої частини\r\n",
    "B = np.array([-9, 7, 12, 12])\r\n",
    "\r\n",
    "# Детермінант головної матриці\r\n",
    "det_A = np.linalg.det(A)\r\n",
    "\r\n",
    "# Знайдемо значення детермінантів матриць заміщення\r\n",
    "det_A1 = np.linalg.det(np.column_stack((B, A[:, 1:])))\r\n",
    "det_A2 = np.linalg.det(np.column_stack((A[:, 0], B, A[:, 2:])))\r\n",
    "det_A3 = np.linalg.det(np.column_stack((A[:, :2], B, A[:, 3:])))\r\n",
    "det_A4 = np.linalg.det(np.column_stack((A[:, :-1], B)))\r\n",
    "\r\n",
    "# Знаходимо значення змінних за формулами Крамера\r\n",
    "x1 = det_A1 / det_A\r\n",
    "x2 = det_A2 / det_A\r\n",
    "x3 = det_A3 / det_A\r\n",
    "x4 = det_A4 / det_A\r\n",
    "\r\n",
    "# Перевірка за допомогою матричного множення\r\n",
    "solution_matrix_mul = np.dot(A, np.array([x1, x2, x3, x4]))\r\n",
    "\r\n",
    "# Перевірка за допомогою оберненої матриці\r\n",
    "A_inv = np.linalg.inv(A)\r\n",
    "solution_inv_matrix = np.dot(A_inv, B)\r\n",
    "\r\n",
    "# Перевірка за допомогою numpy.linalg.solve()\r\n",
    "solution_np_solve = np.linalg.solve(A, B)\r\n",
    "\r\n",
    "# Порівняння результатів за допомогою numpy.allclose()\r\n",
    "check_matrix_mul = np.allclose(solution_matrix_mul, B)\r\n",
    "check_inv_matrix = np.allclose(solution_inv_matrix, B)\r\n",
    "check_np_solve = np.allclose(solution_np_solve, B)\r\n",
    "\r\n",
    "print(\"Перевірка за допомогою матричного множення:\", check_matrix_mul)\r\n",
    "print(\"Перевірка за допомогою оберненої матриці:\", check_inv_matrix)\r\n",
    "print(\"Перевірка за допомогою numpy.linalg.solve():\", check_np_solve)\r\n"
   ]
  },
  {
   "cell_type": "code",
   "execution_count": null,
   "id": "4265bb5a-433f-4fdd-b38a-03a4b2f5f1ba",
   "metadata": {},
   "outputs": [],
   "source": []
  }
 ],
 "metadata": {
  "kernelspec": {
   "display_name": "Python 3 (ipykernel)",
   "language": "python",
   "name": "python3"
  },
  "language_info": {
   "codemirror_mode": {
    "name": "ipython",
    "version": 3
   },
   "file_extension": ".py",
   "mimetype": "text/x-python",
   "name": "python",
   "nbconvert_exporter": "python",
   "pygments_lexer": "ipython3",
   "version": "3.12.1"
  }
 },
 "nbformat": 4,
 "nbformat_minor": 5
}
