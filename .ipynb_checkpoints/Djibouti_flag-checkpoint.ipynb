{
 "cells": [
  {
   "cell_type": "code",
   "execution_count": 2,
   "id": "ecc94144-c892-4be2-be08-825663fbb806",
   "metadata": {},
   "outputs": [
    {
     "data": {
      "text/html": [
       "<svg xmlns=\"http://www.w3.org/2000/svg\" width=\"600\" height=\"400\" viewBox=\"0 0 900 600\">\n",
       "    <rect width=\"900\" height=\"600\" fill=\"#12ADFF\"/>\n",
       "    <polygon points=\"450,300 110000,800 0,600\" fill=\"#007A5E\"/>\n",
       "    <polygon points=\"0,0 0,600 450,300\" fill=\"#FFFFFF\"/>\n",
       "    <polygon points=\"150,240 165,285 210,285 175,315 190,360 150,330 110,360 125,315 90,285 135,285\" fill=\"#FF0000\"/>\n",
       "</svg>\n"
      ],
      "text/plain": [
       "<IPython.core.display.HTML object>"
      ]
     },
     "metadata": {},
     "output_type": "display_data"
    }
   ],
   "source": [
    "%%HTML\n",
    "<svg xmlns=\"http://www.w3.org/2000/svg\" width=\"600\" height=\"400\" viewBox=\"0 0 900 600\">\n",
    "    <rect width=\"900\" height=\"600\" fill=\"#12ADFF\"/>\n",
    "    <polygon points=\"450,300 110000,800 0,600\" fill=\"#007A5E\"/>\n",
    "    <polygon points=\"0,0 0,600 450,300\" fill=\"#FFFFFF\"/>\n",
    "    <polygon points=\"150,240 165,285 210,285 175,315 190,360 150,330 110,360 125,315 90,285 135,285\" fill=\"#FF0000\"/>\n",
    "</svg>"
   ]
  },
  {
   "cell_type": "code",
   "execution_count": null,
   "id": "020ef4dd-21eb-407c-8f99-621e85acb59c",
   "metadata": {},
   "outputs": [],
   "source": []
  }
 ],
 "metadata": {
  "kernelspec": {
   "display_name": "Python 3 (ipykernel)",
   "language": "python",
   "name": "python3"
  },
  "language_info": {
   "codemirror_mode": {
    "name": "ipython",
    "version": 3
   },
   "file_extension": ".py",
   "mimetype": "text/x-python",
   "name": "python",
   "nbconvert_exporter": "python",
   "pygments_lexer": "ipython3",
   "version": "3.12.1"
  }
 },
 "nbformat": 4,
 "nbformat_minor": 5
}
