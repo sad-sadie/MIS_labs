{
 "cells": [
  {
   "cell_type": "code",
   "execution_count": 1,
   "id": "a502705f-9364-4c2d-b0fe-4d1cad7ae66e",
   "metadata": {},
   "outputs": [],
   "source": [
    "def task_4():\n",
    "    numbers = list(map(int, input().split()))\n",
    "\n",
    "    def bubble_sort(arr):\n",
    "        n = len(arr)\n",
    "        swaps = 0  \n",
    "\n",
    "        for i in range(n - 1):\n",
    "            for j in range(0, n - i - 1):\n",
    "                if arr[j] > arr[j + 1]:\n",
    "                    arr[j], arr[j + 1] = arr[j + 1], arr[j]\n",
    "                    swaps += 1\n",
    "\n",
    "        return swaps\n",
    "\n",
    "    swaps = bubble_sort(numbers)\n",
    "\n",
    "    print(f\"Було виконано {swaps} перестановок\")"
   ]
  },
  {
   "cell_type": "code",
   "execution_count": 2,
   "id": "4b921b61-0de0-42a0-b46f-c8bd47ab313f",
   "metadata": {},
   "outputs": [
    {
     "name": "stdin",
     "output_type": "stream",
     "text": [
      " 3 5 3 1 6\n"
     ]
    },
    {
     "name": "stdout",
     "output_type": "stream",
     "text": [
      "Було виконано 4 перестановок\n"
     ]
    }
   ],
   "source": [
    "task_4()"
   ]
  },
  {
   "cell_type": "code",
   "execution_count": 3,
   "id": "e23e8e22-46c3-46f5-8610-d82df5bd064b",
   "metadata": {},
   "outputs": [
    {
     "name": "stdin",
     "output_type": "stream",
     "text": [
      " 5 6 23 8 12 5\n"
     ]
    },
    {
     "name": "stdout",
     "output_type": "stream",
     "text": [
      "Було виконано 6 перестановок\n"
     ]
    }
   ],
   "source": [
    "task_4()"
   ]
  },
  {
   "cell_type": "code",
   "execution_count": 4,
   "id": "1658c3cb-c4e2-4751-adce-90c83c2467ea",
   "metadata": {},
   "outputs": [],
   "source": [
    "def task_4():\n",
    "    numbers = list(map(int, input().split()))\n",
    "\n",
    "    def bubble_sort(arr):\n",
    "        n = len(arr)\n",
    "        swaps = 0  \n",
    "\n",
    "        for i in range(n - 1):\n",
    "            for j in range(0, n - i - 1):\n",
    "                if arr[j] > arr[j + 1]:\n",
    "                    arr[j], arr[j + 1] = arr[j + 1], arr[j]\n",
    "                    swaps += 1\n",
    "\n",
    "        return swaps\n",
    "\n",
    "    swaps = bubble_sort(numbers)\n",
    "\n",
    "    print(f\"Було виконано {swaps} перестановок\")"
   ]
  },
  {
   "cell_type": "code",
   "execution_count": 5,
   "id": "02547486-4328-436f-9477-7ad05e087285",
   "metadata": {},
   "outputs": [
    {
     "name": "stdin",
     "output_type": "stream",
     "text": [
      "Введіть числа:  7 3 1 7 4 2 8 2\n"
     ]
    },
    {
     "ename": "ValueError",
     "evalue": "invalid literal for int() with base 10: '7 3 1 7 4 2 8 2'",
     "output_type": "error",
     "traceback": [
      "\u001b[1;31m---------------------------------------------------------------------------\u001b[0m",
      "\u001b[1;31mValueError\u001b[0m                                Traceback (most recent call last)",
      "Cell \u001b[1;32mIn[5], line 1\u001b[0m\n\u001b[1;32m----> 1\u001b[0m \u001b[43mtask_4\u001b[49m\u001b[43m(\u001b[49m\u001b[43m)\u001b[49m\n",
      "Cell \u001b[1;32mIn[4], line 2\u001b[0m, in \u001b[0;36mtask_4\u001b[1;34m()\u001b[0m\n\u001b[0;32m      1\u001b[0m \u001b[38;5;28;01mdef\u001b[39;00m \u001b[38;5;21mtask_4\u001b[39m():\n\u001b[1;32m----> 2\u001b[0m     k \u001b[38;5;241m=\u001b[39m \u001b[38;5;28;43mint\u001b[39;49m\u001b[43m(\u001b[49m\u001b[38;5;28;43minput\u001b[39;49m\u001b[43m(\u001b[49m\u001b[38;5;124;43m\"\u001b[39;49m\u001b[38;5;124;43mВведіть числа: \u001b[39;49m\u001b[38;5;124;43m\"\u001b[39;49m\u001b[43m)\u001b[49m\u001b[43m)\u001b[49m\n\u001b[0;32m      3\u001b[0m     numbers \u001b[38;5;241m=\u001b[39m \u001b[38;5;28mlist\u001b[39m(\u001b[38;5;28mmap\u001b[39m(\u001b[38;5;28mint\u001b[39m, \u001b[38;5;28minput\u001b[39m()\u001b[38;5;241m.\u001b[39msplit()))\n\u001b[0;32m      5\u001b[0m     \u001b[38;5;28;01mdef\u001b[39;00m \u001b[38;5;21mbubble_sort\u001b[39m(arr):\n",
      "\u001b[1;31mValueError\u001b[0m: invalid literal for int() with base 10: '7 3 1 7 4 2 8 2'"
     ]
    }
   ],
   "source": [
    "task_4()"
   ]
  },
  {
   "cell_type": "code",
   "execution_count": 6,
   "id": "18b6f1a7-d19e-4bb4-981e-d1c636861c6f",
   "metadata": {},
   "outputs": [
    {
     "ename": "SyntaxError",
     "evalue": "invalid syntax (2992701769.py, line 1)",
     "output_type": "error",
     "traceback": [
      "\u001b[1;36m  Cell \u001b[1;32mIn[6], line 1\u001b[1;36m\u001b[0m\n\u001b[1;33m    task 4()\u001b[0m\n\u001b[1;37m         ^\u001b[0m\n\u001b[1;31mSyntaxError\u001b[0m\u001b[1;31m:\u001b[0m invalid syntax\n"
     ]
    }
   ],
   "source": [
    "task 4()"
   ]
  },
  {
   "cell_type": "code",
   "execution_count": 7,
   "id": "4f470172-7889-4a07-b59e-a6d59d07a38d",
   "metadata": {},
   "outputs": [
    {
     "name": "stdin",
     "output_type": "stream",
     "text": [
      "Введіть числа:  7 3 1 7 4 2 8 2\n"
     ]
    },
    {
     "ename": "ValueError",
     "evalue": "invalid literal for int() with base 10: '7 3 1 7 4 2 8 2'",
     "output_type": "error",
     "traceback": [
      "\u001b[1;31m---------------------------------------------------------------------------\u001b[0m",
      "\u001b[1;31mValueError\u001b[0m                                Traceback (most recent call last)",
      "Cell \u001b[1;32mIn[7], line 1\u001b[0m\n\u001b[1;32m----> 1\u001b[0m \u001b[43mtask_4\u001b[49m\u001b[43m(\u001b[49m\u001b[43m)\u001b[49m\n",
      "Cell \u001b[1;32mIn[4], line 2\u001b[0m, in \u001b[0;36mtask_4\u001b[1;34m()\u001b[0m\n\u001b[0;32m      1\u001b[0m \u001b[38;5;28;01mdef\u001b[39;00m \u001b[38;5;21mtask_4\u001b[39m():\n\u001b[1;32m----> 2\u001b[0m     k \u001b[38;5;241m=\u001b[39m \u001b[38;5;28;43mint\u001b[39;49m\u001b[43m(\u001b[49m\u001b[38;5;28;43minput\u001b[39;49m\u001b[43m(\u001b[49m\u001b[38;5;124;43m\"\u001b[39;49m\u001b[38;5;124;43mВведіть числа: \u001b[39;49m\u001b[38;5;124;43m\"\u001b[39;49m\u001b[43m)\u001b[49m\u001b[43m)\u001b[49m\n\u001b[0;32m      3\u001b[0m     numbers \u001b[38;5;241m=\u001b[39m \u001b[38;5;28mlist\u001b[39m(\u001b[38;5;28mmap\u001b[39m(\u001b[38;5;28mint\u001b[39m, \u001b[38;5;28minput\u001b[39m()\u001b[38;5;241m.\u001b[39msplit()))\n\u001b[0;32m      5\u001b[0m     \u001b[38;5;28;01mdef\u001b[39;00m \u001b[38;5;21mbubble_sort\u001b[39m(arr):\n",
      "\u001b[1;31mValueError\u001b[0m: invalid literal for int() with base 10: '7 3 1 7 4 2 8 2'"
     ]
    }
   ],
   "source": [
    "task_4()"
   ]
  },
  {
   "cell_type": "code",
   "execution_count": 8,
   "id": "29f8a246-b0cf-479c-a575-e1036f826b5c",
   "metadata": {},
   "outputs": [],
   "source": [
    "def task_4():\n",
    "    numbers = list(map(int, input().split()))\n",
    "\n",
    "    def bubble_sort(arr):\n",
    "        n = len(arr)\n",
    "        swaps = 0  \n",
    "\n",
    "        for i in range(n - 1):\n",
    "            for j in range(0, n - i - 1):\n",
    "                if arr[j] > arr[j + 1]:\n",
    "                    arr[j], arr[j + 1] = arr[j + 1], arr[j]\n",
    "                    swaps += 1\n",
    "\n",
    "        return swaps\n",
    "\n",
    "    swaps = bubble_sort(numbers)\n",
    "\n",
    "    print(f\"Було виконано {swaps} перестановок\")"
   ]
  },
  {
   "cell_type": "code",
   "execution_count": 9,
   "id": "d8a99aae-e190-49cc-b551-e826bec4610b",
   "metadata": {},
   "outputs": [
    {
     "ename": "NameError",
     "evalue": "name 'def_4' is not defined",
     "output_type": "error",
     "traceback": [
      "\u001b[1;31m---------------------------------------------------------------------------\u001b[0m",
      "\u001b[1;31mNameError\u001b[0m                                 Traceback (most recent call last)",
      "Cell \u001b[1;32mIn[9], line 1\u001b[0m\n\u001b[1;32m----> 1\u001b[0m \u001b[43mdef_4\u001b[49m()\n",
      "\u001b[1;31mNameError\u001b[0m: name 'def_4' is not defined"
     ]
    }
   ],
   "source": [
    "def_4()"
   ]
  },
  {
   "cell_type": "code",
   "execution_count": 10,
   "id": "24fe415e-ffee-4458-9eeb-677367fd7738",
   "metadata": {},
   "outputs": [
    {
     "name": "stdin",
     "output_type": "stream",
     "text": [
      " 5 6 23 8 12 5\n"
     ]
    },
    {
     "name": "stdout",
     "output_type": "stream",
     "text": [
      "Було виконано 6 перестановок\n"
     ]
    }
   ],
   "source": [
    "task_4()"
   ]
  },
  {
   "cell_type": "code",
   "execution_count": 11,
   "id": "4700b1ab-05c6-4053-9088-e9b0577af45d",
   "metadata": {},
   "outputs": [
    {
     "name": "stdin",
     "output_type": "stream",
     "text": [
      " 7 3 1 7 4 2 8 2\n"
     ]
    },
    {
     "name": "stdout",
     "output_type": "stream",
     "text": [
      "Було виконано 14 перестановок\n"
     ]
    }
   ],
   "source": [
    "task_4()"
   ]
  },
  {
   "cell_type": "code",
   "execution_count": null,
   "id": "902d18cd-9a1c-4726-87d6-b879a25fd68e",
   "metadata": {},
   "outputs": [],
   "source": [
    "def task_4():\n",
    "    try:\n",
    "        numbers = list(map(int, input().split()))\n",
    "        \n",
    "        def bubble_sort(arr):\n",
    "            n = len(arr)\n",
    "            swaps = 0 \n",
    "\n",
    "            for i in range(n - 1):\n",
    "                for j in range(0, n - i - 1):\n",
    "                    if arr[j] > arr[j + 1]:\n",
    "                        arr[j], arr[j + 1] = arr[j + 1], arr[j]\n",
    "                        swaps += 1\n",
    "\n",
    "            return swaps\n",
    "\n",
    "        swaps = bubble_sort(numbers)\n",
    "\n",
    "        print(f\"Було виконано {swaps} перестановок\")\n",
    "\n",
    "    except ValueError:\n",
    "        print(\"Помилка. У списку\")\n",
    "\n",
    "# Виклик функції для перевірки прикладу з вхідними даними\n",
    "task_4()\n"
   ]
  }
 ],
 "metadata": {
  "kernelspec": {
   "display_name": "Python 3 (ipykernel)",
   "language": "python",
   "name": "python3"
  },
  "language_info": {
   "codemirror_mode": {
    "name": "ipython",
    "version": 3
   },
   "file_extension": ".py",
   "mimetype": "text/x-python",
   "name": "python",
   "nbconvert_exporter": "python",
   "pygments_lexer": "ipython3",
   "version": "3.12.1"
  }
 },
 "nbformat": 4,
 "nbformat_minor": 5
}
