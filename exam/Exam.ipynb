{
 "cells": [
  {
   "cell_type": "code",
   "execution_count": 1,
   "id": "ed28ec47-89ab-4e8b-8a17-27dea73b1638",
   "metadata": {
    "tags": []
   },
   "outputs": [
    {
     "data": {
      "text/html": [
       "<div>\n",
       "<style scoped>\n",
       "    .dataframe tbody tr th:only-of-type {\n",
       "        vertical-align: middle;\n",
       "    }\n",
       "\n",
       "    .dataframe tbody tr th {\n",
       "        vertical-align: top;\n",
       "    }\n",
       "\n",
       "    .dataframe thead th {\n",
       "        text-align: right;\n",
       "    }\n",
       "</style>\n",
       "<table border=\"1\" class=\"dataframe\">\n",
       "  <thead>\n",
       "    <tr style=\"text-align: right;\">\n",
       "      <th></th>\n",
       "      <th>Unnamed: 0</th>\n",
       "      <th>Gender</th>\n",
       "      <th>EthnicGroup</th>\n",
       "      <th>ParentEduc</th>\n",
       "      <th>LunchType</th>\n",
       "      <th>TestPrep</th>\n",
       "      <th>ParentMaritalStatus</th>\n",
       "      <th>PracticeSport</th>\n",
       "      <th>IsFirstChild</th>\n",
       "      <th>NrSiblings</th>\n",
       "      <th>TransportMeans</th>\n",
       "      <th>WklyStudyHours</th>\n",
       "      <th>MathScore</th>\n",
       "      <th>ReadingScore</th>\n",
       "      <th>WritingScore</th>\n",
       "    </tr>\n",
       "  </thead>\n",
       "  <tbody>\n",
       "    <tr>\n",
       "      <th>0</th>\n",
       "      <td>0</td>\n",
       "      <td>female</td>\n",
       "      <td>NaN</td>\n",
       "      <td>bachelor's degree</td>\n",
       "      <td>standard</td>\n",
       "      <td>none</td>\n",
       "      <td>married</td>\n",
       "      <td>regularly</td>\n",
       "      <td>yes</td>\n",
       "      <td>3.0</td>\n",
       "      <td>school_bus</td>\n",
       "      <td>&lt; 5</td>\n",
       "      <td>71</td>\n",
       "      <td>71</td>\n",
       "      <td>74</td>\n",
       "    </tr>\n",
       "    <tr>\n",
       "      <th>1</th>\n",
       "      <td>1</td>\n",
       "      <td>female</td>\n",
       "      <td>group C</td>\n",
       "      <td>some college</td>\n",
       "      <td>standard</td>\n",
       "      <td>NaN</td>\n",
       "      <td>married</td>\n",
       "      <td>sometimes</td>\n",
       "      <td>yes</td>\n",
       "      <td>0.0</td>\n",
       "      <td>NaN</td>\n",
       "      <td>5 - 10</td>\n",
       "      <td>69</td>\n",
       "      <td>90</td>\n",
       "      <td>88</td>\n",
       "    </tr>\n",
       "    <tr>\n",
       "      <th>2</th>\n",
       "      <td>2</td>\n",
       "      <td>female</td>\n",
       "      <td>group B</td>\n",
       "      <td>master's degree</td>\n",
       "      <td>standard</td>\n",
       "      <td>none</td>\n",
       "      <td>single</td>\n",
       "      <td>sometimes</td>\n",
       "      <td>yes</td>\n",
       "      <td>4.0</td>\n",
       "      <td>school_bus</td>\n",
       "      <td>&lt; 5</td>\n",
       "      <td>87</td>\n",
       "      <td>93</td>\n",
       "      <td>91</td>\n",
       "    </tr>\n",
       "    <tr>\n",
       "      <th>3</th>\n",
       "      <td>3</td>\n",
       "      <td>male</td>\n",
       "      <td>group A</td>\n",
       "      <td>associate's degree</td>\n",
       "      <td>free/reduced</td>\n",
       "      <td>none</td>\n",
       "      <td>married</td>\n",
       "      <td>never</td>\n",
       "      <td>no</td>\n",
       "      <td>1.0</td>\n",
       "      <td>NaN</td>\n",
       "      <td>5 - 10</td>\n",
       "      <td>45</td>\n",
       "      <td>56</td>\n",
       "      <td>42</td>\n",
       "    </tr>\n",
       "    <tr>\n",
       "      <th>4</th>\n",
       "      <td>4</td>\n",
       "      <td>male</td>\n",
       "      <td>group C</td>\n",
       "      <td>some college</td>\n",
       "      <td>standard</td>\n",
       "      <td>none</td>\n",
       "      <td>married</td>\n",
       "      <td>sometimes</td>\n",
       "      <td>yes</td>\n",
       "      <td>0.0</td>\n",
       "      <td>school_bus</td>\n",
       "      <td>5 - 10</td>\n",
       "      <td>76</td>\n",
       "      <td>78</td>\n",
       "      <td>75</td>\n",
       "    </tr>\n",
       "    <tr>\n",
       "      <th>...</th>\n",
       "      <td>...</td>\n",
       "      <td>...</td>\n",
       "      <td>...</td>\n",
       "      <td>...</td>\n",
       "      <td>...</td>\n",
       "      <td>...</td>\n",
       "      <td>...</td>\n",
       "      <td>...</td>\n",
       "      <td>...</td>\n",
       "      <td>...</td>\n",
       "      <td>...</td>\n",
       "      <td>...</td>\n",
       "      <td>...</td>\n",
       "      <td>...</td>\n",
       "      <td>...</td>\n",
       "    </tr>\n",
       "    <tr>\n",
       "      <th>30636</th>\n",
       "      <td>816</td>\n",
       "      <td>female</td>\n",
       "      <td>group D</td>\n",
       "      <td>high school</td>\n",
       "      <td>standard</td>\n",
       "      <td>none</td>\n",
       "      <td>single</td>\n",
       "      <td>sometimes</td>\n",
       "      <td>no</td>\n",
       "      <td>2.0</td>\n",
       "      <td>school_bus</td>\n",
       "      <td>5 - 10</td>\n",
       "      <td>59</td>\n",
       "      <td>61</td>\n",
       "      <td>65</td>\n",
       "    </tr>\n",
       "    <tr>\n",
       "      <th>30637</th>\n",
       "      <td>890</td>\n",
       "      <td>male</td>\n",
       "      <td>group E</td>\n",
       "      <td>high school</td>\n",
       "      <td>standard</td>\n",
       "      <td>none</td>\n",
       "      <td>single</td>\n",
       "      <td>regularly</td>\n",
       "      <td>no</td>\n",
       "      <td>1.0</td>\n",
       "      <td>private</td>\n",
       "      <td>5 - 10</td>\n",
       "      <td>58</td>\n",
       "      <td>53</td>\n",
       "      <td>51</td>\n",
       "    </tr>\n",
       "    <tr>\n",
       "      <th>30638</th>\n",
       "      <td>911</td>\n",
       "      <td>female</td>\n",
       "      <td>NaN</td>\n",
       "      <td>high school</td>\n",
       "      <td>free/reduced</td>\n",
       "      <td>completed</td>\n",
       "      <td>married</td>\n",
       "      <td>sometimes</td>\n",
       "      <td>no</td>\n",
       "      <td>1.0</td>\n",
       "      <td>private</td>\n",
       "      <td>5 - 10</td>\n",
       "      <td>61</td>\n",
       "      <td>70</td>\n",
       "      <td>67</td>\n",
       "    </tr>\n",
       "    <tr>\n",
       "      <th>30639</th>\n",
       "      <td>934</td>\n",
       "      <td>female</td>\n",
       "      <td>group D</td>\n",
       "      <td>associate's degree</td>\n",
       "      <td>standard</td>\n",
       "      <td>completed</td>\n",
       "      <td>married</td>\n",
       "      <td>regularly</td>\n",
       "      <td>no</td>\n",
       "      <td>3.0</td>\n",
       "      <td>school_bus</td>\n",
       "      <td>5 - 10</td>\n",
       "      <td>82</td>\n",
       "      <td>90</td>\n",
       "      <td>93</td>\n",
       "    </tr>\n",
       "    <tr>\n",
       "      <th>30640</th>\n",
       "      <td>960</td>\n",
       "      <td>male</td>\n",
       "      <td>group B</td>\n",
       "      <td>some college</td>\n",
       "      <td>standard</td>\n",
       "      <td>none</td>\n",
       "      <td>married</td>\n",
       "      <td>never</td>\n",
       "      <td>no</td>\n",
       "      <td>1.0</td>\n",
       "      <td>school_bus</td>\n",
       "      <td>5 - 10</td>\n",
       "      <td>64</td>\n",
       "      <td>60</td>\n",
       "      <td>58</td>\n",
       "    </tr>\n",
       "  </tbody>\n",
       "</table>\n",
       "<p>30641 rows × 15 columns</p>\n",
       "</div>"
      ],
      "text/plain": [
       "       Unnamed: 0  Gender EthnicGroup          ParentEduc     LunchType  \\\n",
       "0               0  female         NaN   bachelor's degree      standard   \n",
       "1               1  female     group C        some college      standard   \n",
       "2               2  female     group B     master's degree      standard   \n",
       "3               3    male     group A  associate's degree  free/reduced   \n",
       "4               4    male     group C        some college      standard   \n",
       "...           ...     ...         ...                 ...           ...   \n",
       "30636         816  female     group D         high school      standard   \n",
       "30637         890    male     group E         high school      standard   \n",
       "30638         911  female         NaN         high school  free/reduced   \n",
       "30639         934  female     group D  associate's degree      standard   \n",
       "30640         960    male     group B        some college      standard   \n",
       "\n",
       "        TestPrep ParentMaritalStatus PracticeSport IsFirstChild  NrSiblings  \\\n",
       "0           none             married     regularly          yes         3.0   \n",
       "1            NaN             married     sometimes          yes         0.0   \n",
       "2           none              single     sometimes          yes         4.0   \n",
       "3           none             married         never           no         1.0   \n",
       "4           none             married     sometimes          yes         0.0   \n",
       "...          ...                 ...           ...          ...         ...   \n",
       "30636       none              single     sometimes           no         2.0   \n",
       "30637       none              single     regularly           no         1.0   \n",
       "30638  completed             married     sometimes           no         1.0   \n",
       "30639  completed             married     regularly           no         3.0   \n",
       "30640       none             married         never           no         1.0   \n",
       "\n",
       "      TransportMeans WklyStudyHours  MathScore  ReadingScore  WritingScore  \n",
       "0         school_bus            < 5         71            71            74  \n",
       "1                NaN         5 - 10         69            90            88  \n",
       "2         school_bus            < 5         87            93            91  \n",
       "3                NaN         5 - 10         45            56            42  \n",
       "4         school_bus         5 - 10         76            78            75  \n",
       "...              ...            ...        ...           ...           ...  \n",
       "30636     school_bus         5 - 10         59            61            65  \n",
       "30637        private         5 - 10         58            53            51  \n",
       "30638        private         5 - 10         61            70            67  \n",
       "30639     school_bus         5 - 10         82            90            93  \n",
       "30640     school_bus         5 - 10         64            60            58  \n",
       "\n",
       "[30641 rows x 15 columns]"
      ]
     },
     "metadata": {},
     "output_type": "display_data"
    }
   ],
   "source": [
    "import pandas as pd\n",
    "import numpy as np\n",
    "\n",
    "df = pd.read_csv('Expanded_data_with_more_features.csv')\n",
    "display(df)\n",
    "#df = filtered_df.dropna()"
   ]
  },
  {
   "cell_type": "code",
   "execution_count": 2,
   "id": "f776072d-a344-4dfe-b7b1-06090fac68eb",
   "metadata": {
    "tags": []
   },
   "outputs": [
    {
     "name": "stdout",
     "output_type": "stream",
     "text": [
      "Кількість чоловіків у наборі даних: 15217\n",
      "Кількість жінок у наборі даних: 15424\n"
     ]
    }
   ],
   "source": [
    "#1\n",
    "count_male = df[df['Gender'] == 'male'].shape[0]\n",
    "count_female = df[df['Gender'] == 'female'].shape[0]\n",
    "\n",
    "print(\"Кількість чоловіків у наборі даних:\", count_male)\n",
    "print(\"Кількість жінок у наборі даних:\", count_female)\n"
   ]
  },
  {
   "cell_type": "code",
   "execution_count": 3,
   "id": "d49bcbe2-1343-47aa-bc5a-2a1e8207ddf1",
   "metadata": {
    "tags": []
   },
   "outputs": [
    {
     "name": "stdout",
     "output_type": "stream",
     "text": [
      "Відсоток студентів чоловічої статі: 49.6622172905584%\n"
     ]
    }
   ],
   "source": [
    "#2\n",
    "male_count = len(df[df['Gender'] == 'male'])\n",
    "\n",
    "total_count = len(df)\n",
    "\n",
    "male_percentage = (male_count / total_count) * 100\n",
    "\n",
    "print(f\"Відсоток студентів чоловічої статі: {male_percentage}%\")"
   ]
  },
  {
   "cell_type": "code",
   "execution_count": 4,
   "id": "f102982b-afbe-4e6f-aedd-b30cbc2d1b2b",
   "metadata": {
    "tags": []
   },
   "outputs": [
    {
     "name": "stdout",
     "output_type": "stream",
     "text": [
      "Відсоток студенток у наборі даних: 50.337782709441605%\n"
     ]
    }
   ],
   "source": [
    "#3\n",
    "students_by_gender = df['Gender'].value_counts()\n",
    "\n",
    "female_percentage = (students_by_gender['female'] / df.shape[0]) * 100\n",
    "\n",
    "print(f\"Відсоток студенток у наборі даних: {female_percentage}%\")"
   ]
  },
  {
   "cell_type": "code",
   "execution_count": 5,
   "id": "5cf9a605-2369-4fd5-a2fe-32f8e23e3582",
   "metadata": {
    "tags": []
   },
   "outputs": [
    {
     "name": "stdout",
     "output_type": "stream",
     "text": [
      "Етнічна група з найвищим середнім балом з математики: group E\n",
      "Найвищий середній бал з математики: 75.29893590695373\n"
     ]
    }
   ],
   "source": [
    "#4\n",
    "average_math_score_by_ethnicity = df.groupby('EthnicGroup')['MathScore'].mean()\n",
    "\n",
    "ethnicity_with_highest_average_math_score = average_math_score_by_ethnicity.idxmax()\n",
    "highest_average_math_score = average_math_score_by_ethnicity.max()\n",
    "\n",
    "print(\"Етнічна група з найвищим середнім балом з математики:\", ethnicity_with_highest_average_math_score)\n",
    "print(\"Найвищий середній бал з математики:\", highest_average_math_score)\n"
   ]
  },
  {
   "cell_type": "code",
   "execution_count": 6,
   "id": "ebd318dd-8caa-484d-b14c-871df819d436",
   "metadata": {
    "tags": []
   },
   "outputs": [
    {
     "name": "stdout",
     "output_type": "stream",
     "text": [
      "Етнічна група з найвищим середнім балом з читання: group E\n",
      "Найвищий середній бал з читання: 74.25142291512002\n"
     ]
    }
   ],
   "source": [
    "#5\n",
    "average_math_score_by_ethnicity = df.groupby('EthnicGroup')['ReadingScore'].mean()\n",
    "\n",
    "ethnicity_with_highest_average_math_score = average_math_score_by_ethnicity.idxmax()\n",
    "highest_average_math_score = average_math_score_by_ethnicity.max()\n",
    "\n",
    "print(\"Етнічна група з найвищим середнім балом з читання:\", ethnicity_with_highest_average_math_score)\n",
    "print(\"Найвищий середній бал з читання:\", highest_average_math_score)"
   ]
  },
  {
   "cell_type": "code",
   "execution_count": 7,
   "id": "d990055c-85d9-4094-8587-fc8e316ccebb",
   "metadata": {
    "tags": []
   },
   "outputs": [
    {
     "name": "stdout",
     "output_type": "stream",
     "text": [
      "Етнічна група з найвищим середнім балом з письма: group E\n",
      "Найвищий середній бал з письма: 72.67706013363029\n"
     ]
    }
   ],
   "source": [
    "#6\n",
    "average_writing_score_by_ethnicity = df.groupby('EthnicGroup')['WritingScore'].mean()\n",
    "\n",
    "ethnicity_with_highest_average_writing_score = average_writing_score_by_ethnicity.idxmax()\n",
    "highest_average_writing_score = average_writing_score_by_ethnicity.max()\n",
    "\n",
    "print(\"Етнічна група з найвищим середнім балом з письма:\", ethnicity_with_highest_average_writing_score)\n",
    "print(\"Найвищий середній бал з письма:\", highest_average_writing_score)"
   ]
  },
  {
   "cell_type": "code",
   "execution_count": 8,
   "id": "c4b480c4-0f2a-4519-8d9d-b001f78c7fe3",
   "metadata": {
    "tags": []
   },
   "outputs": [
    {
     "name": "stdout",
     "output_type": "stream",
     "text": [
      "Середній бал з математики для студентів, які закінчили курс підготовки до тесту: 69.5466599698644\n"
     ]
    }
   ],
   "source": [
    "#7\n",
    "# Вибір рядків, де курс підготовки до тесту завершено і обчислення середнього балу з математики\n",
    "average_math_score_test_prep_completed = df[df['TestPrep'] == 'completed']['MathScore'].mean()\n",
    "\n",
    "print(\"Середній бал з математики для студентів, які закінчили курс підготовки до тесту:\", average_math_score_test_prep_completed)"
   ]
  },
  {
   "cell_type": "code",
   "execution_count": 9,
   "id": "104d47f8-71cf-4f24-8d9a-40409267aa51",
   "metadata": {
    "tags": []
   },
   "outputs": [
    {
     "name": "stdout",
     "output_type": "stream",
     "text": [
      "Середній бал з читання для студентів, які закінчили курс підготовки до тесту: 73.73299849321948\n"
     ]
    }
   ],
   "source": [
    "#8\n",
    "average_score_test_prep_completed = df[df['TestPrep'] == 'completed']['ReadingScore'].mean()\n",
    "\n",
    "print(\"Середній бал з читання для студентів, які закінчили курс підготовки до тесту:\", average_score_test_prep_completed)"
   ]
  },
  {
   "cell_type": "code",
   "execution_count": 10,
   "id": "8a97d970-9d16-4baa-b250-e3cf7a514b82",
   "metadata": {
    "tags": []
   },
   "outputs": [
    {
     "name": "stdout",
     "output_type": "stream",
     "text": [
      "Середній бал для студентів, які закінчили курс підготовки до тесту: 72.66097438473129\n"
     ]
    }
   ],
   "source": [
    "#9\n",
    "average_math_score_test_prep_completed = df[df['TestPrep'] == 'completed']['MathScore'].mean()\n",
    "average_reading_score_test_prep_completed = df[df['TestPrep'] == 'completed']['ReadingScore'].mean()\n",
    "average_writing_score_test_prep_completed = df[df['TestPrep'] == 'completed']['WritingScore'].mean()\n",
    "average_score_test_prep_completed = (average_math_score_test_prep_completed + average_reading_score_test_prep_completed + average_writing_score_test_prep_completed) / 3\n",
    "\n",
    "print(\"Середній бал для студентів, які закінчили курс підготовки до тесту:\", average_score_test_prep_completed)"
   ]
  },
  {
   "cell_type": "code",
   "execution_count": 11,
   "id": "04ad68a2-152e-4dc4-be35-41f040444e6d",
   "metadata": {
    "tags": []
   },
   "outputs": [
    {
     "name": "stdout",
     "output_type": "stream",
     "text": [
      "Кількість студентів, що мають одружених батьків: 16844\n"
     ]
    }
   ],
   "source": [
    "#10\n",
    "married_parents = len(df[df['ParentMaritalStatus'] == 'married'])\n",
    "print(f\"Кількість студентів, що мають одружених батьків: {married_parents}\")"
   ]
  },
  {
   "cell_type": "code",
   "execution_count": 12,
   "id": "501bd8f1-0696-450e-9fd8-04aa1da6f3b5",
   "metadata": {
    "tags": []
   },
   "outputs": [
    {
     "name": "stdout",
     "output_type": "stream",
     "text": [
      "Кількість студентів, що мають батьків-одинаків: 7097\n"
     ]
    }
   ],
   "source": [
    "#11\n",
    "single_parents = len(df[df['ParentMaritalStatus'] == 'single'])\n",
    "print(f\"Кількість студентів, що мають батьків-одинаків: {single_parents}\")"
   ]
  },
  {
   "cell_type": "code",
   "execution_count": 13,
   "id": "28e33188-04de-4246-86c2-122f1a9ba85f",
   "metadata": {
    "tags": []
   },
   "outputs": [
    {
     "name": "stdout",
     "output_type": "stream",
     "text": [
      "Чи студенти, які регулярно займаються спортом, мають вищі середні результати з математики, ніж ті, хто ніколи не займається спортом?: True\n"
     ]
    }
   ],
   "source": [
    "#12\n",
    "sport_regulary = df[df['PracticeSport'] == 'regularly']\n",
    "sport_never = df[df['PracticeSport'] == 'never']\n",
    "\n",
    "average_math_score_sport_regulary = sport_regulary['MathScore'].mean()\n",
    "average_math_score_sport_never = sport_never['MathScore'].mean()\n",
    "\n",
    "print(f\"Чи студенти, які регулярно займаються спортом, мають вищі середні результати з математики, ніж ті, хто ніколи не займається спортом?: {average_math_score_sport_regulary > average_math_score_sport_never}\")"
   ]
  },
  {
   "cell_type": "code",
   "execution_count": 14,
   "id": "d7b6b350-a215-4d7b-9fd0-091548161218",
   "metadata": {
    "tags": []
   },
   "outputs": [
    {
     "name": "stdout",
     "output_type": "stream",
     "text": [
      "Чи студенти, які регулярно займаються спортом, мають вищі середні результати з читання, ніж ті, хто ніколи не займається спортом?: True\n"
     ]
    }
   ],
   "source": [
    "#13\n",
    "sport_regulary = df[df['PracticeSport'] == 'regularly']\n",
    "sport_never = df[df['PracticeSport'] == 'never']\n",
    "\n",
    "average_read_score_sport_regulary = sport_regulary['ReadingScore'].mean()\n",
    "average_read_score_sport_never = sport_never['ReadingScore'].mean()\n",
    "\n",
    "print(f\"Чи студенти, які регулярно займаються спортом, мають вищі середні результати з читання, ніж ті, хто ніколи не займається спортом?: {average_read_score_sport_regulary > average_read_score_sport_never}\")"
   ]
  },
  {
   "cell_type": "code",
   "execution_count": 15,
   "id": "4191cfbe-d492-4a61-a557-6cac03d6b480",
   "metadata": {
    "tags": []
   },
   "outputs": [
    {
     "name": "stdout",
     "output_type": "stream",
     "text": [
      "Кількість учнів, що користується шкільним автобусом, щоб дістатися до школи: 16145\n"
     ]
    }
   ],
   "source": [
    "#14\n",
    "by_bus = len(df[df['TransportMeans'] == 'school_bus'])\n",
    "print(f\"Кількість учнів, що користується шкільним автобусом, щоб дістатися до школи: {by_bus}\")"
   ]
  },
  {
   "cell_type": "code",
   "execution_count": 16,
   "id": "4dc43f21-0b97-4f05-9675-88eb8b028bfc",
   "metadata": {
    "tags": []
   },
   "outputs": [
    {
     "name": "stdout",
     "output_type": "stream",
     "text": [
      "Кількість учнів, що користується приватним транспортом, щоб дістатися до школи: 11362\n"
     ]
    }
   ],
   "source": [
    "#15\n",
    "by_private = len(df[df['TransportMeans'] == 'private'])\n",
    "print(f\"Кількість учнів, що користується приватним транспортом, щоб дістатися до школи: {by_private}\")"
   ]
  },
  {
   "cell_type": "code",
   "execution_count": 17,
   "id": "53d55dbe-dff8-452c-97e9-eda7ed059186",
   "metadata": {
    "tags": []
   },
   "outputs": [
    {
     "name": "stdout",
     "output_type": "stream",
     "text": [
      "Найкращі параметри: {'max_depth': 10, 'min_samples_leaf': 4, 'min_samples_split': 10}\n",
      "Найкраща точність на навчальному наборі: 0.7024\n",
      "Точність на тестовому наборі: 0.7046900777751591\n"
     ]
    }
   ],
   "source": [
    "from sklearn.model_selection import GridSearchCV\n",
    "from sklearn.tree import DecisionTreeClassifier\n",
    "from sklearn.metrics import accuracy_score\n",
    "\n",
    "df = df.dropna()\n",
    "\n",
    "X = df[['Gender', 'EthnicGroup', 'ParentEduc', 'LunchType', 'ParentMaritalStatus', 'PracticeSport', 'IsFirstChild', 'NrSiblings', 'TransportMeans', 'WklyStudyHours', 'MathScore', 'ReadingScore', 'WritingScore']]\n",
    "y = df['TestPrep']\n",
    "\n",
    "X = pd.get_dummies(X)\n",
    "\n",
    "X_train, X_test, y_train, y_test = X[:15000], X[15000:], y[:15000], y[15000:]\n",
    "\n",
    "model = DecisionTreeClassifier(random_state=42)\n",
    "\n",
    "param_grid = {\n",
    "    'max_depth': [None, 10, 20],\n",
    "    'min_samples_split': [2, 5, 10],\n",
    "    'min_samples_leaf': [1, 2, 4]\n",
    "}\n",
    "\n",
    "grid_search = GridSearchCV(model, param_grid, cv=5)\n",
    "grid_search.fit(X_train, y_train)\n",
    "\n",
    "best_params = grid_search.best_params_\n",
    "print(\"Найкращі параметри:\", best_params)\n",
    "\n",
    "best_score = grid_search.best_score_\n",
    "print(\"Найкраща точність на навчальному наборі:\", best_score)\n",
    "\n",
    "best_model = grid_search.best_estimator_\n",
    "predictions = best_model.predict(X_test)\n",
    "test_accuracy = accuracy_score(y_test, predictions)\n",
    "print(\"Точність на тестовому наборі:\", test_accuracy)"
   ]
  },
  {
   "cell_type": "code",
   "execution_count": null,
   "id": "8f52e9dd-0034-4bfe-b0a7-b5579036e95e",
   "metadata": {},
   "outputs": [],
   "source": []
  }
 ],
 "metadata": {
  "kernelspec": {
   "display_name": "Python 3 (ipykernel)",
   "language": "python",
   "name": "python3"
  },
  "language_info": {
   "codemirror_mode": {
    "name": "ipython",
    "version": 3
   },
   "file_extension": ".py",
   "mimetype": "text/x-python",
   "name": "python",
   "nbconvert_exporter": "python",
   "pygments_lexer": "ipython3",
   "version": "3.11.5"
  }
 },
 "nbformat": 4,
 "nbformat_minor": 5
}
